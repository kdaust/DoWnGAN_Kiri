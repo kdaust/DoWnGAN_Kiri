{
 "cells": [
  {
   "cell_type": "code",
   "execution_count": 1,
   "id": "643fb54c",
   "metadata": {},
   "outputs": [
    {
     "data": {
      "text/plain": [
       "<dask.config.set at 0x7f4bda4b8b50>"
      ]
     },
     "execution_count": 1,
     "metadata": {},
     "output_type": "execute_result"
    }
   ],
   "source": [
    "from dataloader import NetCDFSR, xr_standardize_field\n",
    "import xarray as xr\n",
    "import numpy as np\n",
    "import glob\n",
    "import torch\n",
    "from prep_gan import find_nearest_index, to_utc\n",
    "\n",
    "from distributed import Client\n",
    "from sklearn.metrics import mean_squared_error\n",
    "\n",
    "from sklearn.decomposition import PCA\n",
    "from scipy.interpolate import NearestNDInterpolator\n",
    "\n",
    "import matplotlib.pyplot as plt\n",
    "from models.generator import Generator\n",
    "from models.critic import Critic\n",
    "\n",
    "%load_ext autoreload\n",
    "%autoreload 2\n",
    "\n",
    "torch.cuda.empty_cache()\n",
    "import dask\n",
    "dask.config.set({\"array.slicing.split_large_chunks\": True})"
   ]
  },
  {
   "cell_type": "code",
   "execution_count": 2,
   "id": "904d21d4",
   "metadata": {},
   "outputs": [],
   "source": [
    "# stri = \"\"\n",
    "# for var in list(xr.open_dataset(constants).data_vars)[:-1]:\n",
    "#     stri+=var+\",\"\n",
    "# stri"
   ]
  },
  {
   "cell_type": "code",
   "execution_count": 3,
   "id": "6ee1ae38",
   "metadata": {},
   "outputs": [],
   "source": [
    "# constants = \"data/regrid_16_mask_wrfout_conus_constants_era_to_regrid.nc\"\n",
    "# fine_mask = xr.open_dataset(constants)\n",
    "# plt.imshow(xr.open_dataset(constants).LANDMASK.values[0, ...], origin=\"lower\")"
   ]
  },
  {
   "cell_type": "code",
   "execution_count": 4,
   "id": "6af1a378",
   "metadata": {},
   "outputs": [],
   "source": [
    "# fine_mask"
   ]
  },
  {
   "cell_type": "code",
   "execution_count": 5,
   "id": "94f42048",
   "metadata": {},
   "outputs": [],
   "source": [
    "# coarse_constants = \"data/_grib2netcdf-webmars-public-svc-blue-005-6fe5cac1a363ec1525f54343b6cc9fd8-J3TMVF.nc\"\n",
    "# coarse_mask = xr.open_dataset(coarse_constants)\n",
    "# coarse_mask = coarse_mask.sortby('latitude', ascending=True)\n",
    "# mlat1 = np.argmin(np.abs(fine_mask.lat.min()-coarse_mask.latitude).values)\n",
    "# mlat2 = np.argmin(np.abs(fine_mask.lat.max()-coarse_mask.latitude).values)\n",
    "# mlon1 = np.argmin(np.abs(fine_mask.lon.min()-(-360+coarse_mask.longitude)).values)\n",
    "# mlon2 = np.argmin(np.abs(fine_mask.lon.max()-(-360+coarse_mask.longitude)).values)\n",
    "# coarse_mask = coarse_mask.lsm[0, mlat1:mlat2, mlon1:mlon2]"
   ]
  },
  {
   "cell_type": "code",
   "execution_count": 6,
   "id": "8cc4084e",
   "metadata": {},
   "outputs": [],
   "source": [
    "device = torch.device(\"cuda:0\" if (torch.cuda.is_available()) else \"cpu\")\n"
   ]
  },
  {
   "cell_type": "code",
   "execution_count": 7,
   "id": "f2a3268d",
   "metadata": {},
   "outputs": [
    {
     "data": {
      "text/plain": [
       "device(type='cuda', index=0)"
      ]
     },
     "execution_count": 7,
     "metadata": {},
     "output_type": "execute_result"
    }
   ],
   "source": [
    "device"
   ]
  },
  {
   "cell_type": "code",
   "execution_count": 8,
   "id": "e75b8d24",
   "metadata": {},
   "outputs": [
    {
     "data": {
      "text/html": [
       "<table style=\"border: 2px solid white;\">\n",
       "<tr>\n",
       "<td style=\"vertical-align: top; border: 0px solid white\">\n",
       "<h3 style=\"text-align: left;\">Client</h3>\n",
       "<ul style=\"text-align: left; list-style: none; margin: 0; padding: 0;\">\n",
       "  <li><b>Scheduler: </b>tcp://127.0.0.1:42453</li>\n",
       "  <li><b>Dashboard: </b><a href='http://127.0.0.1:8787/status' target='_blank'>http://127.0.0.1:8787/status</a></li>\n",
       "</ul>\n",
       "</td>\n",
       "<td style=\"vertical-align: top; border: 0px solid white\">\n",
       "<h3 style=\"text-align: left;\">Cluster</h3>\n",
       "<ul style=\"text-align: left; list-style:none; margin: 0; padding: 0;\">\n",
       "  <li><b>Workers: </b>8</li>\n",
       "  <li><b>Cores: </b>16</li>\n",
       "  <li><b>Memory: </b>14.90 GiB</li>\n",
       "</ul>\n",
       "</td>\n",
       "</tr>\n",
       "</table>"
      ],
      "text/plain": [
       "<Client: 'tcp://127.0.0.1:42453' processes=8 threads=16, memory=14.90 GiB>"
      ]
     },
     "execution_count": 8,
     "metadata": {},
     "output_type": "execute_result"
    }
   ],
   "source": [
    "# Depending on your workstation specifications, you may need to adjust these values.\n",
    "# On a single machine, n_workers=1 is usually better.\n",
    "client=Client(n_workers=8, threads_per_worker=2, memory_limit=\"2GB\")\n",
    "client"
   ]
  },
  {
   "cell_type": "markdown",
   "id": "5df07b76",
   "metadata": {},
   "source": [
    "Load data and extract synchronous time stamps"
   ]
  },
  {
   "cell_type": "code",
   "execution_count": 9,
   "id": "357d8cf9",
   "metadata": {},
   "outputs": [],
   "source": [
    "hr_dataroot_U10 = \"data/wrf/U10_regrid_16/regrid_16_6hrly_wrf2d_d01_ctrl_U10*.nc\"\n",
    "hr_dataroot_V10 = \"data/wrf/V10_regrid_16/regrid_16_6hrly_wrf2d_d01_ctrl_V10*.nc\"\n",
    "\n",
    "fine_u = xr.open_mfdataset(glob.glob(hr_dataroot_U10), combine='by_coords', engine='netcdf4', concat_dim='Time', chunks={\"Times\":100})\n",
    "fine_v = xr.open_mfdataset(glob.glob(hr_dataroot_V10), combine='by_coords', engine='netcdf4', concat_dim='Time', chunks={\"Times\":100})"
   ]
  },
  {
   "cell_type": "code",
   "execution_count": 10,
   "id": "41668f23",
   "metadata": {},
   "outputs": [],
   "source": [
    "dataroot = \"./data/interim_2000-10-01_to_2013-09-30.nc\"\n",
    "\n",
    "target = '10UV_GDS4_SFC'\n",
    "coarse = xr.open_dataset(dataroot).astype(\"float\")\n",
    "coarse = coarse.sortby('latitude', ascending=True)\n",
    "coarse_u10 = coarse.u10.loc[\"2000-01-01\":\"2015-05-30\"].chunk({\"time\": 100})\n",
    "coarse_v10 = coarse.v10.loc[\"2000-01-01\":\"2015-05-30\"].chunk({\"time\": 100})\n",
    "\n",
    "# scale factor\n",
    "sf = 8"
   ]
  },
  {
   "cell_type": "code",
   "execution_count": 11,
   "id": "f7b35c97",
   "metadata": {},
   "outputs": [
    {
     "data": {
      "text/plain": [
       "(<xarray.DataArray 'time' ()>\n",
       " array('2000-10-01T00:00:00.000000000', dtype='datetime64[ns]'),\n",
       " <xarray.DataArray 'time' ()>\n",
       " array('2013-09-30T18:00:00.000000000', dtype='datetime64[ns]'))"
      ]
     },
     "execution_count": 11,
     "metadata": {},
     "output_type": "execute_result"
    }
   ],
   "source": [
    "coarse_u10.time.min(), coarse_u10.time.max()"
   ]
  },
  {
   "cell_type": "markdown",
   "id": "aff227ca",
   "metadata": {},
   "source": [
    "Mark starting long and lat boundaries"
   ]
  },
  {
   "cell_type": "code",
   "execution_count": 12,
   "id": "84fb6b82",
   "metadata": {},
   "outputs": [
    {
     "data": {
      "text/plain": [
       "(<xarray.DataArray 'longitude' ()>\n",
       " array(-139.055, dtype=float32),\n",
       " <xarray.DataArray 'latitude' ()>\n",
       " array(18.137, dtype=float32))"
      ]
     },
     "execution_count": 12,
     "metadata": {},
     "output_type": "execute_result"
    }
   ],
   "source": [
    "coarse_u10.longitude.min(), coarse_u10.latitude.min()"
   ]
  },
  {
   "cell_type": "markdown",
   "id": "6b13570d",
   "metadata": {},
   "source": [
    "Fine the regular grid size"
   ]
  },
  {
   "cell_type": "code",
   "execution_count": 13,
   "id": "6f7e684a",
   "metadata": {},
   "outputs": [
    {
     "data": {
      "text/plain": [
       "(0.09375114738941193, 0.09375)"
      ]
     },
     "execution_count": 13,
     "metadata": {},
     "output_type": "execute_result"
    }
   ],
   "source": [
    "np.diff(coarse_u10.longitude).mean()/sf, np.diff(coarse_u10.latitude).mean()/sf"
   ]
  },
  {
   "cell_type": "markdown",
   "id": "15c170ab",
   "metadata": {},
   "source": [
    "Number of steps"
   ]
  },
  {
   "cell_type": "code",
   "execution_count": 14,
   "id": "1f79cfff",
   "metadata": {},
   "outputs": [
    {
     "data": {
      "text/plain": [
       "(880, 432)"
      ]
     },
     "execution_count": 14,
     "metadata": {},
     "output_type": "execute_result"
    }
   ],
   "source": [
    "coarse_u10.longitude.shape[0]*sf, coarse_u10.latitude.shape[0]*sf"
   ]
  },
  {
   "cell_type": "code",
   "execution_count": 15,
   "id": "8c30efeb",
   "metadata": {},
   "outputs": [
    {
     "data": {
      "image/png": "[encoded data removed]",
      "text/plain": [
       "<Figure size 720x720 with 2 Axes>"
      ]
     },
     "metadata": {
      "needs_background": "light"
     },
     "output_type": "display_data"
    },
    {
     "data": {
      "text/plain": [
       "<matplotlib.image.AxesImage at 0x7f4c015ac6d0>"
      ]
     },
     "execution_count": 15,
     "metadata": {},
     "output_type": "execute_result"
    },
    {
     "data": {
      "image/png": "[encoded data removed]",
      "text/plain": [
       "<Figure size 720x720 with 2 Axes>"
      ]
     },
     "metadata": {
      "needs_background": "light"
     },
     "output_type": "display_data"
    }
   ],
   "source": [
    "tidx = 15000\n",
    "vmin, vmax = -13, 6\n",
    "low, up, l, r = 4, 20, 70, 86\n",
    "fig, ax = plt.subplots(1, 2, figsize=(10, 10))\n",
    "ax[0].imshow(fine_u.U10[tidx, sf*low:sf*up, sf*l:sf*r], origin=\"lower\",)# vmin=vmin, vmax=vmax)\n",
    "ax[1].imshow(coarse_u10[tidx, low:up, l:r], origin=\"lower\", )#vmin=vmin, vmax=vmax)\n",
    "plt.show()\n",
    "\n",
    "fig, ax = plt.subplots(1, 2, figsize=(10, 10))\n",
    "ax[0].imshow(fine_v.V10[tidx, sf*low:sf*up, sf*l:sf*r], origin=\"lower\",)# vmin=vmin, vmax=vmax)\n",
    "ax[1].imshow(coarse_v10[tidx, low:up, l:r], origin=\"lower\", )#vmin=vmin, vmax=vmax)\n",
    "\n"
   ]
  },
  {
   "cell_type": "code",
   "execution_count": 16,
   "id": "1daa6bf7",
   "metadata": {},
   "outputs": [],
   "source": [
    "import datetime as datetime\n",
    "Times_dt = []\n",
    "for t in fine_u.Times:\n",
    "    year = int(str(float(t))[:4])\n",
    "    month = int(str(float(t))[4:6])\n",
    "    day = int(str(float(t))[6:8])\n",
    "    hours = int(np.round(24*float(str(float(t))[8:])))\n",
    "    Times_dt.append(np.datetime64(datetime.datetime(year, month, day, hours)))\n",
    "Times_dt = np.array(Times_dt).astype('datetime64[D]')"
   ]
  },
  {
   "cell_type": "code",
   "execution_count": 17,
   "id": "19e1d755",
   "metadata": {},
   "outputs": [
    {
     "data": {
      "text/plain": [
       "(array(['2000-10-01T00:00:00.000000000', '2000-10-01T06:00:00.000000000',\n",
       "        '2000-10-01T12:00:00.000000000', ...,\n",
       "        '2013-09-30T06:00:00.000000000', '2013-09-30T12:00:00.000000000',\n",
       "        '2013-09-30T18:00:00.000000000'], dtype='datetime64[ns]'),\n",
       " array(['2000-10-01', '2000-10-01', '2000-10-01', ..., '2013-09-30',\n",
       "        '2013-09-30', '2013-09-30'], dtype='datetime64[D]'))"
      ]
     },
     "execution_count": 17,
     "metadata": {},
     "output_type": "execute_result"
    }
   ],
   "source": [
    "coarse_u10.time.values.astype(np.datetime64), Times_dt"
   ]
  },
  {
   "cell_type": "code",
   "execution_count": 18,
   "id": "60d3cbdd",
   "metadata": {},
   "outputs": [
    {
     "data": {
      "text/plain": [
       "(array([9.7035840e+08, 9.7035840e+08, 9.7035840e+08, ..., 1.3804992e+09,\n",
       "        1.3804992e+09, 1.3804992e+09]),\n",
       " array([9.7035840e+08, 9.7035840e+08, 9.7035840e+08, ..., 1.3804992e+09,\n",
       "        1.3804992e+09, 1.3804992e+09]))"
      ]
     },
     "execution_count": 18,
     "metadata": {},
     "output_type": "execute_result"
    }
   ],
   "source": [
    "to_utc(coarse_u10.time.values.astype('datetime64[D]')), to_utc(Times_dt)"
   ]
  },
  {
   "cell_type": "code",
   "execution_count": 19,
   "id": "9838dfac",
   "metadata": {},
   "outputs": [],
   "source": [
    "# coarse_mask.values.shape"
   ]
  },
  {
   "cell_type": "code",
   "execution_count": 20,
   "id": "905b86fe",
   "metadata": {},
   "outputs": [
    {
     "name": "stdout",
     "output_type": "stream",
     "text": [
      "(17999, 128, 128)\n"
     ]
    }
   ],
   "source": [
    "u10 = fine_u.U10[1:18000, sf*low:sf*up, sf*l:sf*r]\n",
    "v10 = fine_v.V10[1:18000, sf*low:sf*up, sf*l:sf*r]\n",
    "# fmask = np.repeat(fine_mask.LANDMASK.values[0, sf*low:sf*up, sf*l:sf*r][np.newaxis, :, :], u10.shape[0], axis=0)\n",
    "\n",
    "coarse_u10_patch = coarse_u10[1:18000, low:up, l:r]\n",
    "coarse_v10_patch = coarse_v10[1:18000, low:up, l:r]\n",
    "# cmask = np.repeat(coarse_mask.values[low:up, l:r][np.newaxis, :, :], u10.shape[0], axis=0)\n",
    "\n",
    "u10 = xr_standardize_field(u10)\n",
    "v10 = xr_standardize_field(v10)\n",
    "coarse_u10_patch =  xr_standardize_field(coarse_u10_patch)\n",
    "coarse_v10_patch =  xr_standardize_field(coarse_v10_patch)\n",
    "\n",
    "print(u10.shape)"
   ]
  },
  {
   "cell_type": "code",
   "execution_count": 21,
   "id": "f014d078",
   "metadata": {},
   "outputs": [],
   "source": [
    "# assert np.isclose(float(u10.mean().compute()), 0.0, atol=10-5)\n",
    "# assert np.isclose(float(v10.mean().compute()), 0.0, atol=10-5)\n",
    "\n",
    "# assert np.isclose(float(coarse_u10_patch.mean().compute()), 0.0, atol=10-5)\n",
    "# assert np.isclose(float(coarse_v10_patch.mean().compute()), 0.0, atol=10-5)\n",
    "\n",
    "# assert np.isclose(float(u10.std().compute()), 1.0, atol=10-5)\n",
    "# assert np.isclose(float(v10.std().compute()), 1.0, atol=10-5)\n",
    "\n",
    "# assert np.isclose(float(coarse_u10_patch.std().compute()), 1.0, atol=10-5)\n",
    "# assert np.isclose(float(coarse_v10_patch.std().compute()), 1.0, atol=10-5)"
   ]
  },
  {
   "cell_type": "code",
   "execution_count": 22,
   "id": "f51f2bac",
   "metadata": {},
   "outputs": [],
   "source": [
    "# coarse_mask.shape, coarse_u10_patch.shape"
   ]
  },
  {
   "cell_type": "code",
   "execution_count": 23,
   "id": "8f316913",
   "metadata": {},
   "outputs": [],
   "source": [
    "# coarse = np.stack([coarse_u10_patch, coarse_v10_patch, cmask], axis=1)\n",
    "# fine = np.stack([u10, v10, fmask], axis=1)\n",
    "\n",
    "\n",
    "# coarse = np.stack([coarse_u10_patch, coarse_v10_patch], axis=1)\n",
    "# fine = np.stack([u10, v10], axis=1)\n",
    "\n",
    "\n",
    "# del coarse_u10_patch\n",
    "# del coarse_v10_patch\n",
    "# del cmask\n",
    "# del fmask\n",
    "coarse = xr.concat([coarse_u10_patch, coarse_v10_patch], dim=\"var\").transpose('time', 'var', 'latitude', 'longitude')\n",
    "fine = xr.concat([u10, v10], dim=\"var\").transpose('Times', 'var', 'lat', 'lon')\n",
    "\n",
    "del coarse_u10_patch\n",
    "del coarse_v10_patch\n"
   ]
  },
  {
   "cell_type": "code",
   "execution_count": null,
   "id": "ca8040e1",
   "metadata": {},
   "outputs": [],
   "source": []
  },
  {
   "cell_type": "code",
   "execution_count": 24,
   "id": "7137e87e",
   "metadata": {},
   "outputs": [
    {
     "data": {
      "text/plain": [
       "((17999, 2, 16, 16), (17999, 2, 128, 128))"
      ]
     },
     "execution_count": 24,
     "metadata": {},
     "output_type": "execute_result"
    }
   ],
   "source": [
    "coarse.shape, fine.shape"
   ]
  },
  {
   "cell_type": "code",
   "execution_count": 25,
   "id": "54a363eb",
   "metadata": {},
   "outputs": [
    {
     "name": "stdout",
     "output_type": "stream",
     "text": [
      "(25, 2, 16384)\n"
     ]
    }
   ],
   "source": [
    "# PCA\n",
    "# TO DO LOG ncomp IN MLFLOW\n",
    "ncomp = 25\n",
    "fine_pca_u10 = np.array(fine[:, 0, ...]).reshape(u10.shape[0], u10.shape[1]*u10.shape[2])\n",
    "pca = PCA(n_components=ncomp)\n",
    "pca.fit(fine_pca_u10)\n",
    "fine_sp_basis_u10 = pca.components_.reshape(ncomp, u10.shape[1]*u10.shape[2])/pca.explained_variance_[:, np.newaxis]\n",
    "del fine_pca_u10\n",
    "# fine_sp_basis_u10 = np.divide(fine_sp_basis_u10, pca.explained_variance_)\n",
    "\n",
    "fine_pca_v10 = np.array(fine[:, 1, ...]).reshape(v10.shape[0], v10.shape[1]*v10.shape[2])\n",
    "pca = PCA(n_components=ncomp)\n",
    "pca.fit(fine_pca_v10)\n",
    "del fine_pca_v10\n",
    "\n",
    "fine_sp_basis_v10 = pca.components_.reshape(ncomp, v10.shape[1]*v10.shape[2])/pca.explained_variance_[:, np.newaxis]\n",
    "fine_sp_basis = np.stack([fine_sp_basis_u10, fine_sp_basis_v10], axis=1)\n",
    "del fine_sp_basis_v10\n",
    "del fine_sp_basis_u10\n",
    "\n",
    "print(fine_sp_basis.shape)"
   ]
  },
  {
   "cell_type": "code",
   "execution_count": 26,
   "id": "1c61eb23",
   "metadata": {},
   "outputs": [
    {
     "data": {
      "text/plain": [
       "(torch.Size([25, 2, 16384]),\n",
       " torch.Size([17999, 2, 16, 16]),\n",
       " torch.float32,\n",
       " torch.float32)"
      ]
     },
     "execution_count": 26,
     "metadata": {},
     "output_type": "execute_result"
    }
   ],
   "source": [
    "fine_t = torch.from_numpy(np.array(fine)).float()\n",
    "coarse_t = torch.from_numpy(np.array(coarse)).float()\n",
    "pcas_t = torch.from_numpy(fine_sp_basis).float()\n",
    "pcas_t.size(), coarse_t.size(), pcas_t.dtype, coarse_t.dtype"
   ]
  },
  {
   "cell_type": "code",
   "execution_count": 27,
   "id": "f8a41cd0",
   "metadata": {},
   "outputs": [],
   "source": [
    "del u10\n",
    "del v10"
   ]
  },
  {
   "cell_type": "code",
   "execution_count": 28,
   "id": "636025d3",
   "metadata": {},
   "outputs": [],
   "source": [
    "# del fine_pca_u10\n",
    "# del fine_pca_v10\n",
    "del fine_sp_basis"
   ]
  },
  {
   "cell_type": "code",
   "execution_count": null,
   "id": "8e26addf",
   "metadata": {},
   "outputs": [],
   "source": []
  },
  {
   "cell_type": "code",
   "execution_count": 29,
   "id": "d97f9763",
   "metadata": {},
   "outputs": [],
   "source": [
    "del coarse\n",
    "del fine"
   ]
  },
  {
   "cell_type": "code",
   "execution_count": 30,
   "id": "9fcfff2a",
   "metadata": {},
   "outputs": [],
   "source": [
    "device = torch.device(\"cuda:0\" if (torch.cuda.is_available()) else \"cpu\")\n",
    "batch_size = 64\n",
    "dataset = NetCDFSR(\n",
    "    fine_t,\n",
    "    coarse_t,\n",
    "    pcas_t,\n",
    "    device=device\n",
    ")\n",
    "\n",
    "dataloader = torch.utils.data.DataLoader(\n",
    "    dataset=dataset,\n",
    "    batch_size=batch_size,\n",
    "    shuffle=True\n",
    ")"
   ]
  },
  {
   "cell_type": "code",
   "execution_count": 31,
   "id": "889713e4",
   "metadata": {},
   "outputs": [
    {
     "data": {
      "text/plain": [
       "device(type='cuda', index=0)"
      ]
     },
     "execution_count": 31,
     "metadata": {},
     "output_type": "execute_result"
    }
   ],
   "source": [
    "device"
   ]
  },
  {
   "cell_type": "code",
   "execution_count": 32,
   "id": "5e2699f9",
   "metadata": {},
   "outputs": [
    {
     "data": {
      "text/plain": [
       "(torch.Size([64, 1, 25, 2, 16384]),\n",
       " torch.Size([2, 2, 16, 16]),\n",
       " torch.Size([2, 2, 128, 128]))"
      ]
     },
     "execution_count": 32,
     "metadata": {},
     "output_type": "execute_result"
    }
   ],
   "source": [
    "real_batch, real_cbatch, pcas = next(iter(dataloader))\n",
    "fixed = {\"coarse\": real_cbatch[:2, ...], \"fine\": real_batch[:2, ...]}\n",
    "pcas.size()\n",
    "pcas.shape, fixed[\"coarse\"].shape, fixed[\"fine\"].shape,"
   ]
  },
  {
   "cell_type": "code",
   "execution_count": 33,
   "id": "3baa4b76",
   "metadata": {},
   "outputs": [],
   "source": [
    "# from models import Generator, Discriminator\n",
    "# discriminator_test = Discriminator(15, 120, 2)\n",
    "# generator_test = Generator(15, 120, 2)\n",
    "# gt = generator_test(fixed[\"coarse\"])\n",
    "# print(gt.shape)\n",
    "\n",
    "# discriminator_test(fixed[\"fine\"]).shape,\n",
    "# generator_test(fixed[\"coarse\"]).shape,\n",
    "# discriminator_test(gt)"
   ]
  },
  {
   "cell_type": "code",
   "execution_count": 34,
   "id": "de851d63",
   "metadata": {},
   "outputs": [
    {
     "data": {
      "text/plain": [
       "device(type='cuda', index=0)"
      ]
     },
     "execution_count": 34,
     "metadata": {},
     "output_type": "execute_result"
    }
   ],
   "source": [
    "device"
   ]
  },
  {
   "cell_type": "code",
   "execution_count": 35,
   "id": "7af7cdbd",
   "metadata": {},
   "outputs": [],
   "source": [
    "# from models import Generator, Discriminator#, patch_discriminator\n",
    "\n",
    "# discriminator = patch_discriminator().to(device)#Discriminator(7, 14, 1).to(device)\n",
    "critic = Critic(16, 128, 2).to(device)\n",
    "generator = Generator(16, 128, 2).to(device)\n",
    "lr = 0.00025"
   ]
  },
  {
   "cell_type": "code",
   "execution_count": 36,
   "id": "1a4eaf0b",
   "metadata": {},
   "outputs": [
    {
     "data": {
      "text/plain": [
       "torch.Size([25, 2, 16384])"
      ]
     },
     "execution_count": 36,
     "metadata": {},
     "output_type": "execute_result"
    }
   ],
   "source": [
    "pcas_t.size()"
   ]
  },
  {
   "cell_type": "code",
   "execution_count": 37,
   "id": "bc645e0c",
   "metadata": {},
   "outputs": [
    {
     "data": {
      "text/plain": [
       "451"
      ]
     },
     "execution_count": 37,
     "metadata": {},
     "output_type": "execute_result"
    }
   ],
   "source": [
    "import gc\n",
    "gc.collect()"
   ]
  },
  {
   "cell_type": "code",
   "execution_count": 39,
   "id": "6d9bf930",
   "metadata": {},
   "outputs": [
    {
     "name": "stderr",
     "output_type": "stream",
     "text": [
      "INFO:root:\n",
      "Epoch 0\n"
     ]
    },
    {
     "name": "stdout",
     "output_type": "stream",
     "text": [
      "1\n"
     ]
    },
    {
     "name": "stderr",
     "output_type": "stream",
     "text": [
      "INFO:root:Gradient Penalty: 142.6046600341797\n",
      "INFO:root:Wasserstein Distance Estimate: 474.1715087890625\n",
      "INFO:root:Iteration number: 250\n",
      "INFO:root:GPU Memory: 791423488\n",
      "INFO:root:EOF Coefficient L2: 2.082451581954956\n",
      "INFO:root:Divergence L2: 1.9906164407730103\n",
      "INFO:root:Vorticity L2: 1.9927254915237427\n",
      "INFO:root:Content L2: 0.8887604475021362\n",
      "INFO:root:Generator loss: 0.03308224678039551\n",
      "INFO:root:Current memory usage is 19.132397MB; Peak was 35.622612MB\n",
      "INFO:root:\n",
      "Epoch 1\n",
      "INFO:root:Gradient Penalty: 309.5251770019531\n",
      "INFO:root:Wasserstein Distance Estimate: 788.39111328125\n",
      "INFO:root:Iteration number: 500\n",
      "INFO:root:GPU Memory: 791423488\n",
      "INFO:root:EOF Coefficient L2: 1.981846570968628\n",
      "INFO:root:Divergence L2: 2.0009610652923584\n",
      "INFO:root:Vorticity L2: 2.001415491104126\n",
      "INFO:root:Content L2: 0.8863523602485657\n",
      "INFO:root:Generator loss: -1.0248041152954102\n",
      "INFO:root:System Free Memory Peak MB: 35.622612\n",
      "INFO:root:Current memory usage is 13.725674MB; Peak was 29.122343MB\n",
      "INFO:root:\n",
      "Epoch 2\n"
     ]
    },
    {
     "ename": "KeyboardInterrupt",
     "evalue": "",
     "output_type": "error",
     "traceback": [
      "\u001b[0;31m---------------------------------------------------------------------------\u001b[0m",
      "\u001b[0;31mKeyboardInterrupt\u001b[0m                         Traceback (most recent call last)",
      "\u001b[0;32m<ipython-input-39-51ec9d42ce7c>\u001b[0m in \u001b[0;36m<module>\u001b[0;34m\u001b[0m\n\u001b[1;32m     41\u001b[0m \u001b[0;34m\u001b[0m\u001b[0m\n\u001b[1;32m     42\u001b[0m \u001b[0;31m# Train model for N epochs\u001b[0m\u001b[0;34m\u001b[0m\u001b[0;34m\u001b[0m\u001b[0;34m\u001b[0m\u001b[0m\n\u001b[0;32m---> 43\u001b[0;31m trainer.train(\n\u001b[0m\u001b[1;32m     44\u001b[0m     \u001b[0mdataloader\u001b[0m\u001b[0;34m,\u001b[0m\u001b[0;34m\u001b[0m\u001b[0;34m\u001b[0m\u001b[0m\n\u001b[1;32m     45\u001b[0m     \u001b[0mepochs\u001b[0m\u001b[0;34m=\u001b[0m\u001b[0mepochs\u001b[0m\u001b[0;34m,\u001b[0m\u001b[0;34m\u001b[0m\u001b[0;34m\u001b[0m\u001b[0m\n",
      "\u001b[0;32m~/msc/DoWnGAN/training.py\u001b[0m in \u001b[0;36mtrain\u001b[0;34m(self, data_loader, epochs, fixed)\u001b[0m\n\u001b[1;32m    278\u001b[0m \u001b[0;34m\u001b[0m\u001b[0m\n\u001b[1;32m    279\u001b[0m                 \u001b[0mtracemalloc\u001b[0m\u001b[0;34m.\u001b[0m\u001b[0mstart\u001b[0m\u001b[0;34m(\u001b[0m\u001b[0;34m)\u001b[0m\u001b[0;34m\u001b[0m\u001b[0;34m\u001b[0m\u001b[0m\n\u001b[0;32m--> 280\u001b[0;31m                 \u001b[0mself\u001b[0m\u001b[0;34m.\u001b[0m\u001b[0m_train_epoch\u001b[0m\u001b[0;34m(\u001b[0m\u001b[0mdata_loader\u001b[0m\u001b[0;34m,\u001b[0m \u001b[0mfixed_writer\u001b[0m\u001b[0;34m,\u001b[0m \u001b[0mepoch\u001b[0m\u001b[0;34m)\u001b[0m\u001b[0;34m\u001b[0m\u001b[0;34m\u001b[0m\u001b[0m\n\u001b[0m\u001b[1;32m    281\u001b[0m                 \u001b[0mcurrent\u001b[0m\u001b[0;34m,\u001b[0m \u001b[0mpeak\u001b[0m \u001b[0;34m=\u001b[0m \u001b[0mtracemalloc\u001b[0m\u001b[0;34m.\u001b[0m\u001b[0mget_traced_memory\u001b[0m\u001b[0;34m(\u001b[0m\u001b[0;34m)\u001b[0m\u001b[0;34m\u001b[0m\u001b[0;34m\u001b[0m\u001b[0m\n\u001b[1;32m    282\u001b[0m                 \u001b[0mself\u001b[0m\u001b[0;34m.\u001b[0m\u001b[0mmetrics\u001b[0m\u001b[0;34m[\u001b[0m\u001b[0;34m\"System Free Memory Peak MB\"\u001b[0m\u001b[0;34m]\u001b[0m \u001b[0;34m=\u001b[0m \u001b[0mpeak\u001b[0m\u001b[0;34m/\u001b[0m\u001b[0;36m10\u001b[0m\u001b[0;34m**\u001b[0m\u001b[0;36m6\u001b[0m\u001b[0;34m\u001b[0m\u001b[0;34m\u001b[0m\u001b[0m\n",
      "\u001b[0;32m~/msc/DoWnGAN/training.py\u001b[0m in \u001b[0;36m_train_epoch\u001b[0;34m(self, data_loader, fixed, epoch)\u001b[0m\n\u001b[1;32m    206\u001b[0m \u001b[0;34m\u001b[0m\u001b[0m\n\u001b[1;32m    207\u001b[0m             \u001b[0mself\u001b[0m\u001b[0;34m.\u001b[0m\u001b[0mnum_steps\u001b[0m \u001b[0;34m+=\u001b[0m \u001b[0;36m1\u001b[0m\u001b[0;34m\u001b[0m\u001b[0;34m\u001b[0m\u001b[0m\n\u001b[0;32m--> 208\u001b[0;31m             \u001b[0mself\u001b[0m\u001b[0;34m.\u001b[0m\u001b[0m_critic_train_iteration\u001b[0m\u001b[0;34m(\u001b[0m\u001b[0mcr\u001b[0m\u001b[0;34m,\u001b[0m \u001b[0mhr\u001b[0m\u001b[0;34m)\u001b[0m\u001b[0;34m\u001b[0m\u001b[0;34m\u001b[0m\u001b[0m\n\u001b[0m\u001b[1;32m    209\u001b[0m \u001b[0;34m\u001b[0m\u001b[0m\n\u001b[1;32m    210\u001b[0m             \u001b[0;31m# result = subprocess.check_output(['bash','-c', 'free -m'])\u001b[0m\u001b[0;34m\u001b[0m\u001b[0;34m\u001b[0m\u001b[0;34m\u001b[0m\u001b[0m\n",
      "\u001b[0;32m~/msc/DoWnGAN/training.py\u001b[0m in \u001b[0;36m_critic_train_iteration\u001b[0;34m(self, cr, hr)\u001b[0m\n\u001b[1;32m    107\u001b[0m         \u001b[0mself\u001b[0m\u001b[0;34m.\u001b[0m\u001b[0mmetrics\u001b[0m\u001b[0;34m[\u001b[0m\u001b[0;34m\"Wasserstein Distance Estimate\"\u001b[0m\u001b[0;34m]\u001b[0m \u001b[0;34m=\u001b[0m \u001b[0mw_estimate\u001b[0m\u001b[0;34m.\u001b[0m\u001b[0mitem\u001b[0m\u001b[0;34m(\u001b[0m\u001b[0;34m)\u001b[0m\u001b[0;34m\u001b[0m\u001b[0;34m\u001b[0m\u001b[0m\n\u001b[1;32m    108\u001b[0m \u001b[0;34m\u001b[0m\u001b[0m\n\u001b[0;32m--> 109\u001b[0;31m         \u001b[0md_loss\u001b[0m\u001b[0;34m.\u001b[0m\u001b[0mbackward\u001b[0m\u001b[0;34m(\u001b[0m\u001b[0;34m)\u001b[0m\u001b[0;34m\u001b[0m\u001b[0;34m\u001b[0m\u001b[0m\n\u001b[0m\u001b[1;32m    110\u001b[0m         \u001b[0mself\u001b[0m\u001b[0;34m.\u001b[0m\u001b[0mC_opt\u001b[0m\u001b[0;34m.\u001b[0m\u001b[0mstep\u001b[0m\u001b[0;34m(\u001b[0m\u001b[0;34m)\u001b[0m\u001b[0;34m\u001b[0m\u001b[0;34m\u001b[0m\u001b[0m\n\u001b[1;32m    111\u001b[0m \u001b[0;34m\u001b[0m\u001b[0m\n",
      "\u001b[0;32m~/tri/lib/python3.8/site-packages/torch/tensor.py\u001b[0m in \u001b[0;36mbackward\u001b[0;34m(self, gradient, retain_graph, create_graph, inputs)\u001b[0m\n\u001b[1;32m    243\u001b[0m                 \u001b[0mcreate_graph\u001b[0m\u001b[0;34m=\u001b[0m\u001b[0mcreate_graph\u001b[0m\u001b[0;34m,\u001b[0m\u001b[0;34m\u001b[0m\u001b[0;34m\u001b[0m\u001b[0m\n\u001b[1;32m    244\u001b[0m                 inputs=inputs)\n\u001b[0;32m--> 245\u001b[0;31m         \u001b[0mtorch\u001b[0m\u001b[0;34m.\u001b[0m\u001b[0mautograd\u001b[0m\u001b[0;34m.\u001b[0m\u001b[0mbackward\u001b[0m\u001b[0;34m(\u001b[0m\u001b[0mself\u001b[0m\u001b[0;34m,\u001b[0m \u001b[0mgradient\u001b[0m\u001b[0;34m,\u001b[0m \u001b[0mretain_graph\u001b[0m\u001b[0;34m,\u001b[0m \u001b[0mcreate_graph\u001b[0m\u001b[0;34m,\u001b[0m \u001b[0minputs\u001b[0m\u001b[0;34m=\u001b[0m\u001b[0minputs\u001b[0m\u001b[0;34m)\u001b[0m\u001b[0;34m\u001b[0m\u001b[0;34m\u001b[0m\u001b[0m\n\u001b[0m\u001b[1;32m    246\u001b[0m \u001b[0;34m\u001b[0m\u001b[0m\n\u001b[1;32m    247\u001b[0m     \u001b[0;32mdef\u001b[0m \u001b[0mregister_hook\u001b[0m\u001b[0;34m(\u001b[0m\u001b[0mself\u001b[0m\u001b[0;34m,\u001b[0m \u001b[0mhook\u001b[0m\u001b[0;34m)\u001b[0m\u001b[0;34m:\u001b[0m\u001b[0;34m\u001b[0m\u001b[0;34m\u001b[0m\u001b[0m\n",
      "\u001b[0;32m~/tri/lib/python3.8/site-packages/torch/autograd/__init__.py\u001b[0m in \u001b[0;36mbackward\u001b[0;34m(tensors, grad_tensors, retain_graph, create_graph, grad_variables, inputs)\u001b[0m\n\u001b[1;32m    143\u001b[0m         \u001b[0mretain_graph\u001b[0m \u001b[0;34m=\u001b[0m \u001b[0mcreate_graph\u001b[0m\u001b[0;34m\u001b[0m\u001b[0;34m\u001b[0m\u001b[0m\n\u001b[1;32m    144\u001b[0m \u001b[0;34m\u001b[0m\u001b[0m\n\u001b[0;32m--> 145\u001b[0;31m     Variable._execution_engine.run_backward(\n\u001b[0m\u001b[1;32m    146\u001b[0m         \u001b[0mtensors\u001b[0m\u001b[0;34m,\u001b[0m \u001b[0mgrad_tensors_\u001b[0m\u001b[0;34m,\u001b[0m \u001b[0mretain_graph\u001b[0m\u001b[0;34m,\u001b[0m \u001b[0mcreate_graph\u001b[0m\u001b[0;34m,\u001b[0m \u001b[0minputs\u001b[0m\u001b[0;34m,\u001b[0m\u001b[0;34m\u001b[0m\u001b[0;34m\u001b[0m\u001b[0m\n\u001b[1;32m    147\u001b[0m         allow_unreachable=True, accumulate_grad=True)  # allow_unreachable flag\n",
      "\u001b[0;31mKeyboardInterrupt\u001b[0m: "
     ]
    },
    {
     "name": "stderr",
     "output_type": "stream",
     "text": [
      "distributed.nanny - WARNING - Restarting worker\n",
      "distributed.nanny - WARNING - Restarting worker\n",
      "distributed.nanny - WARNING - Worker exceeded 95% memory budget. Restarting\n",
      "distributed.nanny - WARNING - Restarting worker\n",
      "distributed.nanny - WARNING - Restarting worker\n",
      "distributed.nanny - WARNING - Restarting worker\n",
      "distributed.nanny - WARNING - Restarting worker\n",
      "distributed.nanny - WARNING - Restarting worker\n",
      "distributed.nanny - WARNING - Restarting worker\n",
      "distributed.nanny - WARNING - Worker exceeded 95% memory budget. Restarting\n",
      "distributed.nanny - WARNING - Worker exceeded 95% memory budget. Restarting\n",
      "distributed.nanny - WARNING - Restarting worker\n",
      "distributed.nanny - WARNING - Restarting worker\n",
      "distributed.nanny - WARNING - Worker exceeded 95% memory budget. Restarting\n",
      "distributed.nanny - WARNING - Restarting worker\n",
      "distributed.nanny - WARNING - Restarting worker\n"
     ]
    }
   ],
   "source": [
    "G_optimizer = torch.optim.Adam(generator.parameters(), lr=lr, betas=(.9, .99))\n",
    "C_optimizer = torch.optim.Adam(critic.parameters(), lr=lr, betas=(.9, .99))\n",
    "\n",
    "# Set up trainer\n",
    "from training import Trainer\n",
    "epochs = 500\n",
    "models = {\"generator\": generator, \"critic\": critic, \"gen_optimizer\": G_optimizer, \"critic_optimizer\": C_optimizer}\n",
    "hyper_params = {\n",
    "    \"gp_weight\": 10,\n",
    "    \"critic_iterations\": 5,\n",
    "    \"batch_size\": batch_size,\n",
    "    \"gamma\": 0.01,\n",
    "    \"eof_weight\": (1-0.01)/4,\n",
    "    \"div_weight\": (1-0.01)/4,\n",
    "    \"vort_weight\": (1-0.01)/4,\n",
    "    \"content_weight\": (1-0.01)/4,\n",
    "}\n",
    "\n",
    "run_params = {\n",
    "    \"epochs\": epochs,\n",
    "    \"print_every\": 500,\n",
    "    \"save_every\": 250,\n",
    "    \"use_cuda\": True,\n",
    "    \"device\": device,\n",
    "    \"log_path\": \"mlruns\"\n",
    "}\n",
    "\n",
    "\n",
    "# trainer = Trainer(generator, discriminator, G_optimizer, D_optimizer,\n",
    "#                   use_cuda=torch.cuda.is_available(), print_every=500, save_every=500, device=device)\n",
    "experiment = \"WGAN-GP Extended Loss Equal Weights\"\n",
    "tags = {\"description\": \"equal weights on loss\"}\n",
    "\n",
    "from mlflow.tracking import MlflowClient\n",
    "client = MlflowClient()\n",
    "# print(dir(client))\n",
    "print(client.get_experiment_by_name(experiment).experiment_id)\n",
    "\n",
    "\n",
    "trainer = Trainer(models, hyper_params, run_params, experiment, tags)\n",
    "\n",
    "# Train model for N epochs\n",
    "trainer.train(\n",
    "    dataloader,\n",
    "    epochs=epochs,\n",
    "    fixed=fixed,\n",
    ")\n",
    "torch.cuda.empty_cache() "
   ]
  },
  {
   "cell_type": "code",
   "execution_count": null,
   "id": "e8c43c26",
   "metadata": {},
   "outputs": [],
   "source": [
    "torch.cuda.empty_cache() "
   ]
  },
  {
   "cell_type": "code",
   "execution_count": null,
   "id": "cde71074",
   "metadata": {},
   "outputs": [],
   "source": [
    "import mlflow\n",
    "mlflow.start_run?"
   ]
  },
  {
   "cell_type": "code",
   "execution_count": null,
   "id": "a2ae83e9",
   "metadata": {},
   "outputs": [],
   "source": []
  },
  {
   "cell_type": "code",
   "execution_count": null,
   "id": "77992a90",
   "metadata": {},
   "outputs": [],
   "source": []
  },
  {
   "cell_type": "code",
   "execution_count": 28,
   "id": "74d6b2f4",
   "metadata": {},
   "outputs": [],
   "source": [
    "import mlflow\n",
    "logged_model = 'file:///home/nannau/msc/DoWnGAN/mlruns/1/804c42df4312453d8506e8b16fd46bc7/artifacts/Generator'\n",
    "\n",
    "# Load model as a PyFuncModel.\n",
    "loaded_model = mlflow.pyfunc.load_model(logged_model)"
   ]
  },
  {
   "cell_type": "code",
   "execution_count": 29,
   "id": "59b3f8bf",
   "metadata": {},
   "outputs": [
    {
     "data": {
      "text/plain": [
       "mlflow.pyfunc.loaded_model:\n",
       "  artifact_path: Generator\n",
       "  flavor: mlflow.pytorch\n",
       "  run_id: 804c42df4312453d8506e8b16fd46bc7"
      ]
     },
     "execution_count": 29,
     "metadata": {},
     "output_type": "execute_result"
    }
   ],
   "source": [
    "loaded_model"
   ]
  },
  {
   "cell_type": "code",
   "execution_count": 32,
   "id": "b73580bf",
   "metadata": {},
   "outputs": [
    {
     "data": {
      "text/plain": [
       "tensor([[[[-3.5388e-01, -4.8582e-01, -5.9356e-01,  ..., -1.3861e+00,\n",
       "           -1.1772e+00, -8.4754e-01],\n",
       "          [-3.7704e-01, -4.5386e-01, -5.6603e-01,  ..., -1.4965e+00,\n",
       "           -1.2917e+00, -1.0280e+00],\n",
       "          [-4.3806e-01, -5.8303e-01, -6.0858e-01,  ..., -1.7329e+00,\n",
       "           -1.4795e+00, -1.0681e+00],\n",
       "          ...,\n",
       "          [ 1.2753e-01,  1.1490e-01,  1.6337e-01,  ..., -2.9095e-02,\n",
       "            7.5807e-03,  2.4980e-02],\n",
       "          [ 9.2736e-02,  9.5301e-02,  1.3478e-01,  ..., -4.0386e-03,\n",
       "            2.4528e-02,  4.6090e-02],\n",
       "          [ 9.7056e-02,  9.9583e-02,  1.2274e-01,  ...,  5.7548e-02,\n",
       "            3.5298e-02,  3.6050e-02]],\n",
       "\n",
       "         [[ 3.6496e-01,  4.0098e-01,  4.1650e-01,  ...,  3.4476e-03,\n",
       "            5.0537e-02, -1.2567e-01],\n",
       "          [ 4.7568e-01,  5.3864e-01,  6.4374e-01,  ...,  1.2802e-02,\n",
       "           -1.5882e-03, -7.8880e-03],\n",
       "          [ 5.9953e-01,  7.1660e-01,  6.8409e-01,  ...,  8.9383e-02,\n",
       "            1.1287e-01,  8.7134e-02],\n",
       "          ...,\n",
       "          [ 4.6119e-02,  7.9566e-02,  9.2078e-02,  ...,  7.9368e-02,\n",
       "            9.1867e-02,  5.7008e-02],\n",
       "          [ 2.3212e-02,  1.6093e-02,  7.8913e-02,  ...,  1.1930e-01,\n",
       "            1.3696e-01,  1.0058e-01],\n",
       "          [ 1.0957e-02,  2.5906e-03,  2.5397e-02,  ...,  8.7181e-02,\n",
       "            1.3331e-01,  7.2135e-02]]],\n",
       "\n",
       "\n",
       "        [[[-7.0684e-02, -1.3365e-01, -9.8992e-02,  ..., -8.8339e-01,\n",
       "           -7.4860e-01, -5.2800e-01],\n",
       "          [-2.6671e-02, -5.8298e-02, -5.0782e-02,  ..., -9.5482e-01,\n",
       "           -8.0654e-01, -6.5553e-01],\n",
       "          [-7.5475e-02, -1.4832e-01, -1.3249e-01,  ..., -1.1038e+00,\n",
       "           -9.1025e-01, -6.5218e-01],\n",
       "          ...,\n",
       "          [ 6.3937e-01,  7.1746e-01,  9.4744e-01,  ...,  6.1244e-01,\n",
       "            6.8211e-01,  5.2035e-01],\n",
       "          [ 5.5031e-01,  6.5506e-01,  7.6817e-01,  ...,  7.2229e-01,\n",
       "            6.2270e-01,  4.1476e-01],\n",
       "          [ 4.6927e-01,  5.2175e-01,  6.1810e-01,  ...,  6.9677e-01,\n",
       "            6.0764e-01,  4.5985e-01]],\n",
       "\n",
       "         [[-2.6322e-01, -2.9019e-01, -4.4013e-01,  ..., -3.2777e-01,\n",
       "           -2.8311e-01, -2.6781e-01],\n",
       "          [-2.7783e-01, -3.7412e-01, -4.6178e-01,  ..., -4.9528e-01,\n",
       "           -4.0285e-01, -2.8461e-01],\n",
       "          [-3.3758e-01, -3.8246e-01, -5.9163e-01,  ..., -4.7414e-01,\n",
       "           -3.6277e-01, -2.9404e-01],\n",
       "          ...,\n",
       "          [-5.1781e-01, -6.1530e-01, -5.7773e-01,  ...,  2.2682e+00,\n",
       "            2.1496e+00,  1.6065e+00],\n",
       "          [-4.9077e-01, -5.6888e-01, -6.0191e-01,  ...,  2.2391e+00,\n",
       "            1.9399e+00,  1.5255e+00],\n",
       "          [-3.6059e-01, -4.4059e-01, -4.4076e-01,  ...,  1.8885e+00,\n",
       "            1.7629e+00,  1.3446e+00]]]], device='cuda:0',\n",
       "       grad_fn=<AddBackward0>)"
      ]
     },
     "execution_count": 32,
     "metadata": {},
     "output_type": "execute_result"
    }
   ],
   "source": [
    "loaded_model = mlflow.pytorch.load_model(logged_model).to(device)\n",
    "loaded_model(fixed[\"coarse\"].to(device))"
   ]
  },
  {
   "cell_type": "code",
   "execution_count": 3,
   "id": "1b32281d",
   "metadata": {},
   "outputs": [
    {
     "data": {
      "text/html": [
       "<div>\n",
       "<style scoped>\n",
       "    .dataframe tbody tr th:only-of-type {\n",
       "        vertical-align: middle;\n",
       "    }\n",
       "\n",
       "    .dataframe tbody tr th {\n",
       "        vertical-align: top;\n",
       "    }\n",
       "\n",
       "    .dataframe thead th {\n",
       "        text-align: right;\n",
       "    }\n",
       "</style>\n",
       "<table border=\"1\" class=\"dataframe\">\n",
       "  <thead>\n",
       "    <tr style=\"text-align: right;\">\n",
       "      <th></th>\n",
       "      <th>run_id</th>\n",
       "      <th>experiment_id</th>\n",
       "      <th>status</th>\n",
       "      <th>artifact_uri</th>\n",
       "      <th>start_time</th>\n",
       "      <th>end_time</th>\n",
       "      <th>metrics.Wasserstein Distance Estimate</th>\n",
       "      <th>metrics.Divergence L2</th>\n",
       "      <th>metrics.GPU Memory</th>\n",
       "      <th>metrics.EOF Coefficient L2</th>\n",
       "      <th>...</th>\n",
       "      <th>params.vort_weight</th>\n",
       "      <th>params.critic_iterations</th>\n",
       "      <th>tags.mlflow.source.name</th>\n",
       "      <th>tags.mlflow.source.git.commit</th>\n",
       "      <th>tags.mlflow.source.type</th>\n",
       "      <th>tags.mlflow.user</th>\n",
       "      <th>tags.6448b64a8d8a445288375be22ed1b270</th>\n",
       "      <th>tags.mlflow.log-model.history</th>\n",
       "      <th>tags.be35a158b37f4b18b52e7da67f3ab7cf</th>\n",
       "      <th>tags.804c42df4312453d8506e8b16fd46bc7</th>\n",
       "    </tr>\n",
       "  </thead>\n",
       "  <tbody>\n",
       "    <tr>\n",
       "      <th>0</th>\n",
       "      <td>6448b64a8d8a445288375be22ed1b270</td>\n",
       "      <td>1</td>\n",
       "      <td>RUNNING</td>\n",
       "      <td>file:///home/nannau/msc/DoWnGAN/mlruns/1/6448b...</td>\n",
       "      <td>2021-05-26 21:22:45.426000+00:00</td>\n",
       "      <td>NaT</td>\n",
       "      <td>NaN</td>\n",
       "      <td>NaN</td>\n",
       "      <td>NaN</td>\n",
       "      <td>NaN</td>\n",
       "      <td>...</td>\n",
       "      <td>0.2475</td>\n",
       "      <td>5</td>\n",
       "      <td>process_data.py</td>\n",
       "      <td>82040d9938170a941bf93c4379283b664f18279e</td>\n",
       "      <td>LOCAL</td>\n",
       "      <td>nannau</td>\n",
       "      <td>{'description': 'equal weights on loss'}</td>\n",
       "      <td>None</td>\n",
       "      <td>None</td>\n",
       "      <td>None</td>\n",
       "    </tr>\n",
       "    <tr>\n",
       "      <th>1</th>\n",
       "      <td>be35a158b37f4b18b52e7da67f3ab7cf</td>\n",
       "      <td>1</td>\n",
       "      <td>FAILED</td>\n",
       "      <td>file:///home/nannau/msc/DoWnGAN/mlruns/1/be35a...</td>\n",
       "      <td>2021-05-26 21:06:09.803000+00:00</td>\n",
       "      <td>2021-05-26 21:20:25.045000+00:00</td>\n",
       "      <td>168.159500</td>\n",
       "      <td>1.982799</td>\n",
       "      <td>261215744.0</td>\n",
       "      <td>2.036446</td>\n",
       "      <td>...</td>\n",
       "      <td>0.2475</td>\n",
       "      <td>5</td>\n",
       "      <td>process_data.py</td>\n",
       "      <td>82040d9938170a941bf93c4379283b664f18279e</td>\n",
       "      <td>LOCAL</td>\n",
       "      <td>nannau</td>\n",
       "      <td>None</td>\n",
       "      <td>[{\"run_id\": \"be35a158b37f4b18b52e7da67f3ab7cf\"...</td>\n",
       "      <td>{'description': 'equal weights on loss'}</td>\n",
       "      <td>None</td>\n",
       "    </tr>\n",
       "    <tr>\n",
       "      <th>2</th>\n",
       "      <td>804c42df4312453d8506e8b16fd46bc7</td>\n",
       "      <td>1</td>\n",
       "      <td>RUNNING</td>\n",
       "      <td>file:///home/nannau/msc/DoWnGAN/mlruns/1/804c4...</td>\n",
       "      <td>2021-05-26 19:25:09.495000+00:00</td>\n",
       "      <td>NaT</td>\n",
       "      <td>90.006012</td>\n",
       "      <td>1.965402</td>\n",
       "      <td>261215744.0</td>\n",
       "      <td>1.771552</td>\n",
       "      <td>...</td>\n",
       "      <td>0.2475</td>\n",
       "      <td>5</td>\n",
       "      <td>process_data.py</td>\n",
       "      <td>82040d9938170a941bf93c4379283b664f18279e</td>\n",
       "      <td>LOCAL</td>\n",
       "      <td>nannau</td>\n",
       "      <td>None</td>\n",
       "      <td>[{\"run_id\": \"804c42df4312453d8506e8b16fd46bc7\"...</td>\n",
       "      <td>None</td>\n",
       "      <td>{'description': 'equal weights on loss'}</td>\n",
       "    </tr>\n",
       "  </tbody>\n",
       "</table>\n",
       "<p>3 rows × 33 columns</p>\n",
       "</div>"
      ],
      "text/plain": [
       "                             run_id experiment_id   status  \\\n",
       "0  6448b64a8d8a445288375be22ed1b270             1  RUNNING   \n",
       "1  be35a158b37f4b18b52e7da67f3ab7cf             1   FAILED   \n",
       "2  804c42df4312453d8506e8b16fd46bc7             1  RUNNING   \n",
       "\n",
       "                                        artifact_uri  \\\n",
       "0  file:///home/nannau/msc/DoWnGAN/mlruns/1/6448b...   \n",
       "1  file:///home/nannau/msc/DoWnGAN/mlruns/1/be35a...   \n",
       "2  file:///home/nannau/msc/DoWnGAN/mlruns/1/804c4...   \n",
       "\n",
       "                        start_time                         end_time  \\\n",
       "0 2021-05-26 21:22:45.426000+00:00                              NaT   \n",
       "1 2021-05-26 21:06:09.803000+00:00 2021-05-26 21:20:25.045000+00:00   \n",
       "2 2021-05-26 19:25:09.495000+00:00                              NaT   \n",
       "\n",
       "   metrics.Wasserstein Distance Estimate  metrics.Divergence L2  \\\n",
       "0                                    NaN                    NaN   \n",
       "1                             168.159500               1.982799   \n",
       "2                              90.006012               1.965402   \n",
       "\n",
       "   metrics.GPU Memory  metrics.EOF Coefficient L2  ...  params.vort_weight  \\\n",
       "0                 NaN                         NaN  ...              0.2475   \n",
       "1         261215744.0                    2.036446  ...              0.2475   \n",
       "2         261215744.0                    1.771552  ...              0.2475   \n",
       "\n",
       "   params.critic_iterations  tags.mlflow.source.name  \\\n",
       "0                         5          process_data.py   \n",
       "1                         5          process_data.py   \n",
       "2                         5          process_data.py   \n",
       "\n",
       "              tags.mlflow.source.git.commit  tags.mlflow.source.type  \\\n",
       "0  82040d9938170a941bf93c4379283b664f18279e                    LOCAL   \n",
       "1  82040d9938170a941bf93c4379283b664f18279e                    LOCAL   \n",
       "2  82040d9938170a941bf93c4379283b664f18279e                    LOCAL   \n",
       "\n",
       "   tags.mlflow.user     tags.6448b64a8d8a445288375be22ed1b270  \\\n",
       "0            nannau  {'description': 'equal weights on loss'}   \n",
       "1            nannau                                      None   \n",
       "2            nannau                                      None   \n",
       "\n",
       "                       tags.mlflow.log-model.history  \\\n",
       "0                                               None   \n",
       "1  [{\"run_id\": \"be35a158b37f4b18b52e7da67f3ab7cf\"...   \n",
       "2  [{\"run_id\": \"804c42df4312453d8506e8b16fd46bc7\"...   \n",
       "\n",
       "      tags.be35a158b37f4b18b52e7da67f3ab7cf  \\\n",
       "0                                      None   \n",
       "1  {'description': 'equal weights on loss'}   \n",
       "2                                      None   \n",
       "\n",
       "      tags.804c42df4312453d8506e8b16fd46bc7  \n",
       "0                                      None  \n",
       "1                                      None  \n",
       "2  {'description': 'equal weights on loss'}  \n",
       "\n",
       "[3 rows x 33 columns]"
      ]
     },
     "execution_count": 3,
     "metadata": {},
     "output_type": "execute_result"
    }
   ],
   "source": [
    "import mlflow\n",
    "runs = mlflow.search_runs(experiment_ids=\"1\")\n",
    "runs.head(10)"
   ]
  },
  {
   "cell_type": "code",
   "execution_count": null,
   "id": "f3b61a55",
   "metadata": {},
   "outputs": [],
   "source": []
  }
 ],
 "metadata": {
  "kernelspec": {
   "display_name": "Python 3",
   "language": "python",
   "name": "python3"
  },
  "language_info": {
   "codemirror_mode": {
    "name": "ipython",
    "version": 3
   },
   "file_extension": ".py",
   "mimetype": "text/x-python",
   "name": "python",
   "nbconvert_exporter": "python",
   "pygments_lexer": "ipython3",
   "version": "3.8.5"
  }
 },
 "nbformat": 4,
 "nbformat_minor": 5
}
