{
 "cells": [
  {
   "cell_type": "code",
   "execution_count": 1,
   "id": "f4829745",
   "metadata": {},
   "outputs": [],
   "source": [
    "from models.critic import Critic\n",
    "import torch\n",
    "\n",
    "%load_ext autoreload\n",
    "%autoreload 2"
   ]
  },
  {
   "cell_type": "code",
   "execution_count": 2,
   "id": "09df04b9",
   "metadata": {},
   "outputs": [],
   "source": [
    "critic = Critic(16, 128, 2)"
   ]
  },
  {
   "cell_type": "code",
   "execution_count": 3,
   "id": "87af10ff",
   "metadata": {},
   "outputs": [],
   "source": [
    "x = torch.randn(2, 2, 128, 128)\n",
    "# critic(x)"
   ]
  },
  {
   "cell_type": "code",
   "execution_count": 6,
   "id": "9adcc63d",
   "metadata": {},
   "outputs": [
    {
     "data": {
      "text/plain": [
       "torch.Size([2, 2, 128, 128])"
      ]
     },
     "execution_count": 6,
     "metadata": {},
     "output_type": "execute_result"
    }
   ],
   "source": [
    "torch.randn(x.size())"
   ]
  },
  {
   "cell_type": "code",
   "execution_count": 8,
   "id": "46b6ddb6",
   "metadata": {},
   "outputs": [
    {
     "data": {
      "text/plain": [
       "torch.Size([2, 3, 128, 128])"
      ]
     },
     "execution_count": 8,
     "metadata": {},
     "output_type": "execute_result"
    }
   ],
   "source": [
    "torch.cat((x, torch.randn(x.size(0), 1, x.size(2), x.size(3))), dim=1).size()"
   ]
  },
  {
   "cell_type": "code",
   "execution_count": null,
   "id": "f061c697",
   "metadata": {},
   "outputs": [],
   "source": []
  }
 ],
 "metadata": {
  "kernelspec": {
   "display_name": "Python 3",
   "language": "python",
   "name": "python3"
  },
  "language_info": {
   "codemirror_mode": {
    "name": "ipython",
    "version": 3
   },
   "file_extension": ".py",
   "mimetype": "text/x-python",
   "name": "python",
   "nbconvert_exporter": "python",
   "pygments_lexer": "ipython3",
   "version": "3.8.5"
  }
 },
 "nbformat": 4,
 "nbformat_minor": 5
}
